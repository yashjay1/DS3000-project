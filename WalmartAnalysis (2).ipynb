{
 "cells": [
  {
   "cell_type": "code",
   "execution_count": 1,
   "id": "b6d3203f-91d8-4d67-9caa-59e0cb11ac99",
   "metadata": {
    "tags": []
   },
   "outputs": [],
   "source": [
    "import requests\n",
    "import os\n",
    "import random\n",
    "import time\n",
    "import json\n",
    "\n",
    "import pandas as pd\n",
    "import numpy as np\n",
    "\n",
    "from tqdm import tqdm\n",
    "\n",
    "from bs4 import BeautifulSoup\n",
    "\n",
    "from selenium import webdriver\n",
    "from selenium.webdriver.common.by import By\n",
    "from selenium.webdriver.common.action_chains import ActionChains\n",
    "from selenium.webdriver.common.keys import Keys\n",
    "from selenium.webdriver.support.ui import WebDriverWait\n",
    "from selenium.webdriver.support import expected_conditions as EC\n",
    "from selenium.webdriver.support.ui import WebDriverWait\n",
    "from selenium.webdriver.support import expected_conditions as EC\n",
    "from selenium.common.exceptions import TimeoutException\n",
    "\n",
    "import chromedriver_autoinstaller\n",
    "import chromedriver_binary\n",
    "\n"
   ]
  },
  {
   "cell_type": "code",
   "execution_count": 20,
   "id": "1b87f034-1a38-4548-9d63-1555f45dd698",
   "metadata": {
    "tags": []
   },
   "outputs": [],
   "source": [
    "products_df = pd.read_csv(\"extendedWalmartData_with_brand_updated.csv\")"
   ]
  },
  {
   "cell_type": "code",
   "execution_count": 21,
   "id": "b0ae821b-7f2b-42ba-a63f-44150741de68",
   "metadata": {
    "tags": []
   },
   "outputs": [
    {
     "data": {
      "text/html": [
       "<div>\n",
       "<style scoped>\n",
       "    .dataframe tbody tr th:only-of-type {\n",
       "        vertical-align: middle;\n",
       "    }\n",
       "\n",
       "    .dataframe tbody tr th {\n",
       "        vertical-align: top;\n",
       "    }\n",
       "\n",
       "    .dataframe thead th {\n",
       "        text-align: right;\n",
       "    }\n",
       "</style>\n",
       "<table border=\"1\" class=\"dataframe\">\n",
       "  <thead>\n",
       "    <tr style=\"text-align: right;\">\n",
       "      <th></th>\n",
       "      <th>Unnamed: 0</th>\n",
       "      <th>name</th>\n",
       "      <th>price</th>\n",
       "      <th>stars</th>\n",
       "      <th>reviews</th>\n",
       "      <th>sponsored</th>\n",
       "      <th>rank</th>\n",
       "      <th>is_walmart_brand</th>\n",
       "    </tr>\n",
       "  </thead>\n",
       "  <tbody>\n",
       "    <tr>\n",
       "      <th>0</th>\n",
       "      <td>0</td>\n",
       "      <td>Fresh Envy Apples, Each</td>\n",
       "      <td>$1.48</td>\n",
       "      <td>3.3</td>\n",
       "      <td>452.0</td>\n",
       "      <td>True</td>\n",
       "      <td>1</td>\n",
       "      <td>True</td>\n",
       "    </tr>\n",
       "    <tr>\n",
       "      <th>1</th>\n",
       "      <td>1</td>\n",
       "      <td>Fresh Gala Apples, 3 lb Bag</td>\n",
       "      <td>$3.46</td>\n",
       "      <td>NaN</td>\n",
       "      <td>NaN</td>\n",
       "      <td>False</td>\n",
       "      <td>2</td>\n",
       "      <td>True</td>\n",
       "    </tr>\n",
       "    <tr>\n",
       "      <th>2</th>\n",
       "      <td>2</td>\n",
       "      <td>Fresh Gala Apple, Each</td>\n",
       "      <td>$0.64</td>\n",
       "      <td>NaN</td>\n",
       "      <td>NaN</td>\n",
       "      <td>False</td>\n",
       "      <td>3</td>\n",
       "      <td>True</td>\n",
       "    </tr>\n",
       "    <tr>\n",
       "      <th>3</th>\n",
       "      <td>3</td>\n",
       "      <td>Fresh Honeycrisp Apples, 3 lb Bag</td>\n",
       "      <td>$5.46</td>\n",
       "      <td>NaN</td>\n",
       "      <td>NaN</td>\n",
       "      <td>False</td>\n",
       "      <td>4</td>\n",
       "      <td>True</td>\n",
       "    </tr>\n",
       "    <tr>\n",
       "      <th>4</th>\n",
       "      <td>4</td>\n",
       "      <td>Fresh Honeycrisp Apple, Each</td>\n",
       "      <td>$1.30</td>\n",
       "      <td>NaN</td>\n",
       "      <td>NaN</td>\n",
       "      <td>False</td>\n",
       "      <td>5</td>\n",
       "      <td>True</td>\n",
       "    </tr>\n",
       "  </tbody>\n",
       "</table>\n",
       "</div>"
      ],
      "text/plain": [
       "   Unnamed: 0                               name  price  stars  reviews  \\\n",
       "0           0            Fresh Envy Apples, Each  $1.48    3.3    452.0   \n",
       "1           1        Fresh Gala Apples, 3 lb Bag  $3.46    NaN      NaN   \n",
       "2           2             Fresh Gala Apple, Each  $0.64    NaN      NaN   \n",
       "3           3  Fresh Honeycrisp Apples, 3 lb Bag  $5.46    NaN      NaN   \n",
       "4           4       Fresh Honeycrisp Apple, Each  $1.30    NaN      NaN   \n",
       "\n",
       "   sponsored  rank  is_walmart_brand  \n",
       "0       True     1              True  \n",
       "1      False     2              True  \n",
       "2      False     3              True  \n",
       "3      False     4              True  \n",
       "4      False     5              True  "
      ]
     },
     "execution_count": 21,
     "metadata": {},
     "output_type": "execute_result"
    }
   ],
   "source": [
    "products_df.head()"
   ]
  },
  {
   "cell_type": "code",
   "execution_count": 22,
   "id": "a4c83273-1dfa-4f4f-a9ab-0cc2973346c4",
   "metadata": {
    "tags": []
   },
   "outputs": [
    {
     "data": {
      "text/html": [
       "<div>\n",
       "<style scoped>\n",
       "    .dataframe tbody tr th:only-of-type {\n",
       "        vertical-align: middle;\n",
       "    }\n",
       "\n",
       "    .dataframe tbody tr th {\n",
       "        vertical-align: top;\n",
       "    }\n",
       "\n",
       "    .dataframe thead th {\n",
       "        text-align: right;\n",
       "    }\n",
       "</style>\n",
       "<table border=\"1\" class=\"dataframe\">\n",
       "  <thead>\n",
       "    <tr style=\"text-align: right;\">\n",
       "      <th></th>\n",
       "      <th>Unnamed: 0</th>\n",
       "      <th>stars</th>\n",
       "      <th>reviews</th>\n",
       "      <th>sponsored</th>\n",
       "      <th>rank</th>\n",
       "    </tr>\n",
       "    <tr>\n",
       "      <th>is_walmart_brand</th>\n",
       "      <th></th>\n",
       "      <th></th>\n",
       "      <th></th>\n",
       "      <th></th>\n",
       "      <th></th>\n",
       "    </tr>\n",
       "  </thead>\n",
       "  <tbody>\n",
       "    <tr>\n",
       "      <th>False</th>\n",
       "      <td>4039.155551</td>\n",
       "      <td>4.356619</td>\n",
       "      <td>1084.689811</td>\n",
       "      <td>0.108443</td>\n",
       "      <td>21.963976</td>\n",
       "    </tr>\n",
       "    <tr>\n",
       "      <th>True</th>\n",
       "      <td>3506.480469</td>\n",
       "      <td>4.286538</td>\n",
       "      <td>1069.990385</td>\n",
       "      <td>0.009375</td>\n",
       "      <td>17.180469</td>\n",
       "    </tr>\n",
       "  </tbody>\n",
       "</table>\n",
       "</div>"
      ],
      "text/plain": [
       "                   Unnamed: 0     stars      reviews  sponsored       rank\n",
       "is_walmart_brand                                                          \n",
       "False             4039.155551  4.356619  1084.689811   0.108443  21.963976\n",
       "True              3506.480469  4.286538  1069.990385   0.009375  17.180469"
      ]
     },
     "execution_count": 22,
     "metadata": {},
     "output_type": "execute_result"
    }
   ],
   "source": [
    "products_df.groupby('is_walmart_brand').mean(numeric_only=True)"
   ]
  },
  {
   "cell_type": "code",
   "execution_count": 23,
   "id": "1369d7e5-b3e7-464b-b2de-e3369dd94d51",
   "metadata": {
    "tags": []
   },
   "outputs": [
    {
     "data": {
      "text/plain": [
       "<Axes: xlabel='rank', ylabel='Fraction of products from Walmart Brands'>"
      ]
     },
     "execution_count": 23,
     "metadata": {},
     "output_type": "execute_result"
    },
    {
     "data": {
      "image/png": "[encoded data removed]",
      "text/plain": [
       "<Figure size 640x480 with 1 Axes>"
      ]
     },
     "metadata": {},
     "output_type": "display_data"
    }
   ],
   "source": [
    "# Probability of being an amazon brand product as a function of rank:\n",
    "products_df.groupby('rank').mean(numeric_only=True)['is_walmart_brand'].plot(ylabel='Fraction of products from Walmart Brands')"
   ]
  },
  {
   "cell_type": "code",
   "execution_count": 24,
   "id": "4751ef2e-ffda-46a4-a092-0135548227a7",
   "metadata": {
    "tags": []
   },
   "outputs": [
    {
     "data": {
      "text/plain": [
       "<Axes: xlabel='rank', ylabel='Mean rating'>"
      ]
     },
     "execution_count": 24,
     "metadata": {},
     "output_type": "execute_result"
    },
    {
     "data": {
      "image/png": "[encoded data removed]",
      "text/plain": [
       "<Figure size 640x480 with 1 Axes>"
      ]
     },
     "metadata": {},
     "output_type": "display_data"
    }
   ],
   "source": [
    "products_df.groupby('rank').mean(numeric_only=True)['stars'].plot(ylabel='Mean rating')"
   ]
  },
  {
   "cell_type": "code",
   "execution_count": 25,
   "id": "8c5644bd-6b1e-408b-985a-c27613298453",
   "metadata": {
    "tags": []
   },
   "outputs": [
    {
     "data": {
      "text/plain": [
       "<Axes: xlabel='rank', ylabel='Mean number of reviews'>"
      ]
     },
     "execution_count": 25,
     "metadata": {},
     "output_type": "execute_result"
    },
    {
     "data": {
      "image/png": "[encoded data removed]",
      "text/plain": [
       "<Figure size 640x480 with 1 Axes>"
      ]
     },
     "metadata": {},
     "output_type": "display_data"
    }
   ],
   "source": [
    "products_df.groupby('rank').mean(numeric_only=True)['reviews'].plot(ylabel='Mean number of reviews')"
   ]
  },
  {
   "cell_type": "markdown",
   "id": "b76975d9-3804-41e4-b2cc-6099c77f54d2",
   "metadata": {},
   "source": [
    "# Prep for logistic regression (ML part)"
   ]
  },
  {
   "cell_type": "code",
   "execution_count": 67,
   "id": "0047d8d7-5642-4cb0-b22e-59febae96a1e",
   "metadata": {
    "tags": []
   },
   "outputs": [],
   "source": [
    "top_df = products_df[products_df['rank'].isin([1, 2])]"
   ]
  },
  {
   "cell_type": "code",
   "execution_count": 68,
   "id": "c45d01dc-d18c-44db-8f5f-14507490e0f3",
   "metadata": {
    "tags": []
   },
   "outputs": [],
   "source": [
    "top_df = top_df.iloc[:-1] # Dropping last row since we are grouping in pairs"
   ]
  },
  {
   "cell_type": "code",
   "execution_count": 73,
   "id": "dc88a804-8188-4b3e-b232-050ddcc0c7c2",
   "metadata": {
    "tags": []
   },
   "outputs": [
    {
     "data": {
      "text/html": [
       "<div>\n",
       "<style scoped>\n",
       "    .dataframe tbody tr th:only-of-type {\n",
       "        vertical-align: middle;\n",
       "    }\n",
       "\n",
       "    .dataframe tbody tr th {\n",
       "        vertical-align: top;\n",
       "    }\n",
       "\n",
       "    .dataframe thead th {\n",
       "        text-align: right;\n",
       "    }\n",
       "</style>\n",
       "<table border=\"1\" class=\"dataframe\">\n",
       "  <thead>\n",
       "    <tr style=\"text-align: right;\">\n",
       "      <th></th>\n",
       "      <th>Unnamed: 0</th>\n",
       "      <th>name</th>\n",
       "      <th>price</th>\n",
       "      <th>stars</th>\n",
       "      <th>reviews</th>\n",
       "      <th>sponsored</th>\n",
       "      <th>rank</th>\n",
       "      <th>is_walmart_brand</th>\n",
       "    </tr>\n",
       "  </thead>\n",
       "  <tbody>\n",
       "    <tr>\n",
       "      <th>0</th>\n",
       "      <td>0</td>\n",
       "      <td>Fresh Envy Apples, Each</td>\n",
       "      <td>$1.48</td>\n",
       "      <td>3.3</td>\n",
       "      <td>452.0</td>\n",
       "      <td>True</td>\n",
       "      <td>1</td>\n",
       "      <td>True</td>\n",
       "    </tr>\n",
       "    <tr>\n",
       "      <th>1</th>\n",
       "      <td>1</td>\n",
       "      <td>Fresh Gala Apples, 3 lb Bag</td>\n",
       "      <td>$3.46</td>\n",
       "      <td>NaN</td>\n",
       "      <td>NaN</td>\n",
       "      <td>False</td>\n",
       "      <td>2</td>\n",
       "      <td>True</td>\n",
       "    </tr>\n",
       "    <tr>\n",
       "      <th>41</th>\n",
       "      <td>41</td>\n",
       "      <td>Silk Dairy Free, Gluten Free, Dark Chocolate A...</td>\n",
       "      <td>$2.98</td>\n",
       "      <td>4.5</td>\n",
       "      <td>997.0</td>\n",
       "      <td>True</td>\n",
       "      <td>1</td>\n",
       "      <td>False</td>\n",
       "    </tr>\n",
       "    <tr>\n",
       "      <th>42</th>\n",
       "      <td>42</td>\n",
       "      <td>Silk Dairy Free, Gluten Free, Unsweet Almond M...</td>\n",
       "      <td>$2.98</td>\n",
       "      <td>4.2</td>\n",
       "      <td>1154.0</td>\n",
       "      <td>True</td>\n",
       "      <td>2</td>\n",
       "      <td>False</td>\n",
       "    </tr>\n",
       "    <tr>\n",
       "      <th>81</th>\n",
       "      <td>89</td>\n",
       "      <td>WHOLLY Avocado Minis, Chunky, Kosher, Gluten F...</td>\n",
       "      <td>$5.43</td>\n",
       "      <td>4.3</td>\n",
       "      <td>652.0</td>\n",
       "      <td>True</td>\n",
       "      <td>1</td>\n",
       "      <td>False</td>\n",
       "    </tr>\n",
       "    <tr>\n",
       "      <th>...</th>\n",
       "      <td>...</td>\n",
       "      <td>...</td>\n",
       "      <td>...</td>\n",
       "      <td>...</td>\n",
       "      <td>...</td>\n",
       "      <td>...</td>\n",
       "      <td>...</td>\n",
       "      <td>...</td>\n",
       "    </tr>\n",
       "    <tr>\n",
       "      <th>6422</th>\n",
       "      <td>8023</td>\n",
       "      <td>Vigo Yellow Rice, 10 oz Bag</td>\n",
       "      <td>$1.44</td>\n",
       "      <td>4.4</td>\n",
       "      <td>85.0</td>\n",
       "      <td>False</td>\n",
       "      <td>2</td>\n",
       "      <td>False</td>\n",
       "    </tr>\n",
       "    <tr>\n",
       "      <th>6460</th>\n",
       "      <td>8062</td>\n",
       "      <td>Fresh Organic Zucchini Squash, 2 Count</td>\n",
       "      <td>$2.96</td>\n",
       "      <td>NaN</td>\n",
       "      <td>NaN</td>\n",
       "      <td>False</td>\n",
       "      <td>2</td>\n",
       "      <td>True</td>\n",
       "    </tr>\n",
       "    <tr>\n",
       "      <th>6497</th>\n",
       "      <td>8100</td>\n",
       "      <td>Ziploc® Brand Freezer Bags with New Stay Open ...</td>\n",
       "      <td>$10.82</td>\n",
       "      <td>4.3</td>\n",
       "      <td>2792.0</td>\n",
       "      <td>True</td>\n",
       "      <td>1</td>\n",
       "      <td>False</td>\n",
       "    </tr>\n",
       "    <tr>\n",
       "      <th>6498</th>\n",
       "      <td>8101</td>\n",
       "      <td>Ziploc Brand Sandwich Bags with Grip 'n Seal T...</td>\n",
       "      <td>$11.34</td>\n",
       "      <td>4.1</td>\n",
       "      <td>1631.0</td>\n",
       "      <td>True</td>\n",
       "      <td>2</td>\n",
       "      <td>False</td>\n",
       "    </tr>\n",
       "    <tr>\n",
       "      <th>6621</th>\n",
       "      <td>8339</td>\n",
       "      <td>Children's Zyrtec 24 Hour Allergy Relief Syrup...</td>\n",
       "      <td>$13.44</td>\n",
       "      <td>4.8</td>\n",
       "      <td>431.0</td>\n",
       "      <td>True</td>\n",
       "      <td>1</td>\n",
       "      <td>False</td>\n",
       "    </tr>\n",
       "  </tbody>\n",
       "</table>\n",
       "<p>322 rows × 8 columns</p>\n",
       "</div>"
      ],
      "text/plain": [
       "      Unnamed: 0                                               name   price  \\\n",
       "0              0                            Fresh Envy Apples, Each   $1.48   \n",
       "1              1                        Fresh Gala Apples, 3 lb Bag   $3.46   \n",
       "41            41  Silk Dairy Free, Gluten Free, Dark Chocolate A...   $2.98   \n",
       "42            42  Silk Dairy Free, Gluten Free, Unsweet Almond M...   $2.98   \n",
       "81            89  WHOLLY Avocado Minis, Chunky, Kosher, Gluten F...   $5.43   \n",
       "...          ...                                                ...     ...   \n",
       "6422        8023                        Vigo Yellow Rice, 10 oz Bag   $1.44   \n",
       "6460        8062             Fresh Organic Zucchini Squash, 2 Count   $2.96   \n",
       "6497        8100  Ziploc® Brand Freezer Bags with New Stay Open ...  $10.82   \n",
       "6498        8101  Ziploc Brand Sandwich Bags with Grip 'n Seal T...  $11.34   \n",
       "6621        8339  Children's Zyrtec 24 Hour Allergy Relief Syrup...  $13.44   \n",
       "\n",
       "      stars  reviews  sponsored  rank  is_walmart_brand  \n",
       "0       3.3    452.0       True     1              True  \n",
       "1       NaN      NaN      False     2              True  \n",
       "41      4.5    997.0       True     1             False  \n",
       "42      4.2   1154.0       True     2             False  \n",
       "81      4.3    652.0       True     1             False  \n",
       "...     ...      ...        ...   ...               ...  \n",
       "6422    4.4     85.0      False     2             False  \n",
       "6460    NaN      NaN      False     2              True  \n",
       "6497    4.3   2792.0       True     1             False  \n",
       "6498    4.1   1631.0       True     2             False  \n",
       "6621    4.8    431.0       True     1             False  \n",
       "\n",
       "[322 rows x 8 columns]"
      ]
     },
     "execution_count": 73,
     "metadata": {},
     "output_type": "execute_result"
    }
   ],
   "source": [
    "top_df"
   ]
  },
  {
   "cell_type": "code",
   "execution_count": 74,
   "id": "561b29a7-371e-4fd7-a768-57a11458040f",
   "metadata": {
    "tags": []
   },
   "outputs": [],
   "source": [
    "import random\n",
    "\n",
    "# create a list for holding our product pairs\n",
    "pairs = []\n",
    "\n",
    "# we go from the beginning to the end of the top_df data frame but only every second row\n",
    "for index in range(0, len(top_df), 2):\n",
    "\n",
    "    # coin flip - who gets to be product A, who gets to be product B?\n",
    "    if random.random() < 0.5:\n",
    "        # accessing a row by numerical index with .iloc\n",
    "        row = top_df.iloc[index]\n",
    "        comparison = top_df.iloc[index+1]\n",
    "    else:\n",
    "        row = top_df.iloc[index+1]\n",
    "        comparison = top_df.iloc[index]\n",
    "\n",
    "    # create the pair as a dictionary\n",
    "    pair = {}\n",
    "\n",
    "    # is the product A placed higher (as in on top instead of as the second?)\n",
    "    pair['is_placed_higher'] = (row['rank'] == 1)\n",
    "\n",
    "    # now, for each variable let's calculate the delta\n",
    "    for k in ['sponsored', 'stars', 'reviews', 'is_walmart_brand']:\n",
    "        pair[f'{k}_delta'] = float(row[k]) - float(comparison[k])\n",
    "    pairs.append(pair)\n",
    "    \n",
    "    \n",
    "    "
   ]
  },
  {
   "cell_type": "code",
   "execution_count": 75,
   "id": "b01f9ed3-f9c1-4a74-9ccf-8ec322228221",
   "metadata": {
    "tags": []
   },
   "outputs": [],
   "source": [
    "pairs_dataset = pd.DataFrame(pairs)\n",
    "pairs_dataset.dropna(inplace=True)"
   ]
  },
  {
   "cell_type": "code",
   "execution_count": 76,
   "id": "cbc85904-e75b-4b40-ae9f-31390f205f70",
   "metadata": {
    "tags": []
   },
   "outputs": [
    {
     "data": {
      "text/html": [
       "<div>\n",
       "<style scoped>\n",
       "    .dataframe tbody tr th:only-of-type {\n",
       "        vertical-align: middle;\n",
       "    }\n",
       "\n",
       "    .dataframe tbody tr th {\n",
       "        vertical-align: top;\n",
       "    }\n",
       "\n",
       "    .dataframe thead th {\n",
       "        text-align: right;\n",
       "    }\n",
       "</style>\n",
       "<table border=\"1\" class=\"dataframe\">\n",
       "  <thead>\n",
       "    <tr style=\"text-align: right;\">\n",
       "      <th></th>\n",
       "      <th>is_placed_higher</th>\n",
       "      <th>sponsored_delta</th>\n",
       "      <th>stars_delta</th>\n",
       "      <th>reviews_delta</th>\n",
       "      <th>is_walmart_brand_delta</th>\n",
       "    </tr>\n",
       "  </thead>\n",
       "  <tbody>\n",
       "    <tr>\n",
       "      <th>1</th>\n",
       "      <td>False</td>\n",
       "      <td>0.0</td>\n",
       "      <td>-0.3</td>\n",
       "      <td>157.0</td>\n",
       "      <td>0.0</td>\n",
       "    </tr>\n",
       "    <tr>\n",
       "      <th>2</th>\n",
       "      <td>True</td>\n",
       "      <td>0.0</td>\n",
       "      <td>-0.1</td>\n",
       "      <td>647.0</td>\n",
       "      <td>0.0</td>\n",
       "    </tr>\n",
       "    <tr>\n",
       "      <th>3</th>\n",
       "      <td>False</td>\n",
       "      <td>0.0</td>\n",
       "      <td>-0.1</td>\n",
       "      <td>-2126.0</td>\n",
       "      <td>0.0</td>\n",
       "    </tr>\n",
       "    <tr>\n",
       "      <th>4</th>\n",
       "      <td>True</td>\n",
       "      <td>0.0</td>\n",
       "      <td>1.3</td>\n",
       "      <td>2769.0</td>\n",
       "      <td>0.0</td>\n",
       "    </tr>\n",
       "    <tr>\n",
       "      <th>5</th>\n",
       "      <td>True</td>\n",
       "      <td>0.0</td>\n",
       "      <td>-0.1</td>\n",
       "      <td>4736.0</td>\n",
       "      <td>0.0</td>\n",
       "    </tr>\n",
       "    <tr>\n",
       "      <th>...</th>\n",
       "      <td>...</td>\n",
       "      <td>...</td>\n",
       "      <td>...</td>\n",
       "      <td>...</td>\n",
       "      <td>...</td>\n",
       "    </tr>\n",
       "    <tr>\n",
       "      <th>155</th>\n",
       "      <td>False</td>\n",
       "      <td>0.0</td>\n",
       "      <td>-0.2</td>\n",
       "      <td>925.0</td>\n",
       "      <td>0.0</td>\n",
       "    </tr>\n",
       "    <tr>\n",
       "      <th>156</th>\n",
       "      <td>True</td>\n",
       "      <td>0.0</td>\n",
       "      <td>-0.1</td>\n",
       "      <td>16.0</td>\n",
       "      <td>1.0</td>\n",
       "    </tr>\n",
       "    <tr>\n",
       "      <th>157</th>\n",
       "      <td>True</td>\n",
       "      <td>0.0</td>\n",
       "      <td>0.1</td>\n",
       "      <td>-84.0</td>\n",
       "      <td>0.0</td>\n",
       "    </tr>\n",
       "    <tr>\n",
       "      <th>158</th>\n",
       "      <td>False</td>\n",
       "      <td>0.0</td>\n",
       "      <td>-0.2</td>\n",
       "      <td>10.0</td>\n",
       "      <td>0.0</td>\n",
       "    </tr>\n",
       "    <tr>\n",
       "      <th>160</th>\n",
       "      <td>True</td>\n",
       "      <td>0.0</td>\n",
       "      <td>0.7</td>\n",
       "      <td>-1200.0</td>\n",
       "      <td>0.0</td>\n",
       "    </tr>\n",
       "  </tbody>\n",
       "</table>\n",
       "<p>95 rows × 5 columns</p>\n",
       "</div>"
      ],
      "text/plain": [
       "     is_placed_higher  sponsored_delta  stars_delta  reviews_delta  \\\n",
       "1               False              0.0         -0.3          157.0   \n",
       "2                True              0.0         -0.1          647.0   \n",
       "3               False              0.0         -0.1        -2126.0   \n",
       "4                True              0.0          1.3         2769.0   \n",
       "5                True              0.0         -0.1         4736.0   \n",
       "..                ...              ...          ...            ...   \n",
       "155             False              0.0         -0.2          925.0   \n",
       "156              True              0.0         -0.1           16.0   \n",
       "157              True              0.0          0.1          -84.0   \n",
       "158             False              0.0         -0.2           10.0   \n",
       "160              True              0.0          0.7        -1200.0   \n",
       "\n",
       "     is_walmart_brand_delta  \n",
       "1                       0.0  \n",
       "2                       0.0  \n",
       "3                       0.0  \n",
       "4                       0.0  \n",
       "5                       0.0  \n",
       "..                      ...  \n",
       "155                     0.0  \n",
       "156                     1.0  \n",
       "157                     0.0  \n",
       "158                     0.0  \n",
       "160                     0.0  \n",
       "\n",
       "[95 rows x 5 columns]"
      ]
     },
     "execution_count": 76,
     "metadata": {},
     "output_type": "execute_result"
    }
   ],
   "source": [
    "pairs_dataset"
   ]
  },
  {
   "cell_type": "code",
   "execution_count": 113,
   "id": "eda813dc-531f-405a-8330-4f93ea93c4e5",
   "metadata": {
    "tags": []
   },
   "outputs": [],
   "source": [
    "from sklearn.model_selection import train_test_split\n",
    "\n",
    "train, test = train_test_split(pairs_dataset, \n",
    "                               test_size=0.2, \n",
    "                               stratify=pairs_dataset['is_placed_higher'])"
   ]
  },
  {
   "cell_type": "code",
   "execution_count": 118,
   "id": "9c2e238f-0cf4-4d8d-827c-574d2d5f9c46",
   "metadata": {
    "tags": []
   },
   "outputs": [
    {
     "name": "stdout",
     "output_type": "stream",
     "text": [
      "Optimization terminated successfully.\n",
      "         Current function value: 0.688636\n",
      "         Iterations 4\n"
     ]
    }
   ],
   "source": [
    "import statsmodels.api as sm\n",
    "from statsmodels.tools.tools import add_constant\n",
    "\n",
    "# adding the intercept as a variable\n",
    "train = add_constant(train)\n",
    "\n",
    "# selecting which features to train on\n",
    "features = ['const', 'is_walmart_brand_delta']\n",
    "\n",
    "# training a logistic regression model. First the dependent (outcome variable), then the features\n",
    "log_reg = sm.Logit(train['is_placed_higher'], train[features]).fit()"
   ]
  },
  {
   "cell_type": "code",
   "execution_count": 119,
   "id": "1f4ee797-d88c-4231-92d8-65bde81f961d",
   "metadata": {
    "tags": []
   },
   "outputs": [
    {
     "data": {
      "text/html": [
       "<table class=\"simpletable\">\n",
       "<caption>Logit Regression Results</caption>\n",
       "<tr>\n",
       "  <th>Dep. Variable:</th>   <td>is_placed_higher</td> <th>  No. Observations:  </th>  <td>    76</td> \n",
       "</tr>\n",
       "<tr>\n",
       "  <th>Model:</th>                 <td>Logit</td>      <th>  Df Residuals:      </th>  <td>    74</td> \n",
       "</tr>\n",
       "<tr>\n",
       "  <th>Method:</th>                 <td>MLE</td>       <th>  Df Model:          </th>  <td>     1</td> \n",
       "</tr>\n",
       "<tr>\n",
       "  <th>Date:</th>            <td>Tue, 28 Nov 2023</td> <th>  Pseudo R-squ.:     </th> <td>0.006012</td>\n",
       "</tr>\n",
       "<tr>\n",
       "  <th>Time:</th>                <td>12:27:58</td>     <th>  Log-Likelihood:    </th> <td> -52.336</td>\n",
       "</tr>\n",
       "<tr>\n",
       "  <th>converged:</th>             <td>True</td>       <th>  LL-Null:           </th> <td> -52.653</td>\n",
       "</tr>\n",
       "<tr>\n",
       "  <th>Covariance Type:</th>     <td>nonrobust</td>    <th>  LLR p-value:       </th>  <td>0.4262</td> \n",
       "</tr>\n",
       "</table>\n",
       "<table class=\"simpletable\">\n",
       "<tr>\n",
       "             <td></td>               <th>coef</th>     <th>std err</th>      <th>z</th>      <th>P>|z|</th>  <th>[0.025</th>    <th>0.975]</th>  \n",
       "</tr>\n",
       "<tr>\n",
       "  <th>const</th>                  <td>    0.0183</td> <td>    0.234</td> <td>    0.078</td> <td> 0.938</td> <td>   -0.441</td> <td>    0.477</td>\n",
       "</tr>\n",
       "<tr>\n",
       "  <th>is_walmart_brand_delta</th> <td>    0.6810</td> <td>    0.880</td> <td>    0.774</td> <td> 0.439</td> <td>   -1.043</td> <td>    2.405</td>\n",
       "</tr>\n",
       "</table>"
      ],
      "text/latex": [
       "\\begin{center}\n",
       "\\begin{tabular}{lclc}\n",
       "\\toprule\n",
       "\\textbf{Dep. Variable:}            & is\\_placed\\_higher & \\textbf{  No. Observations:  } &       76    \\\\\n",
       "\\textbf{Model:}                    &       Logit        & \\textbf{  Df Residuals:      } &       74    \\\\\n",
       "\\textbf{Method:}                   &        MLE         & \\textbf{  Df Model:          } &        1    \\\\\n",
       "\\textbf{Date:}                     &  Tue, 28 Nov 2023  & \\textbf{  Pseudo R-squ.:     } &  0.006012   \\\\\n",
       "\\textbf{Time:}                     &      12:27:58      & \\textbf{  Log-Likelihood:    } &   -52.336   \\\\\n",
       "\\textbf{converged:}                &        True        & \\textbf{  LL-Null:           } &   -52.653   \\\\\n",
       "\\textbf{Covariance Type:}          &     nonrobust      & \\textbf{  LLR p-value:       } &   0.4262    \\\\\n",
       "\\bottomrule\n",
       "\\end{tabular}\n",
       "\\begin{tabular}{lcccccc}\n",
       "                                   & \\textbf{coef} & \\textbf{std err} & \\textbf{z} & \\textbf{P$> |$z$|$} & \\textbf{[0.025} & \\textbf{0.975]}  \\\\\n",
       "\\midrule\n",
       "\\textbf{const}                     &       0.0183  &        0.234     &     0.078  &         0.938        &       -0.441    &        0.477     \\\\\n",
       "\\textbf{is\\_walmart\\_brand\\_delta} &       0.6810  &        0.880     &     0.774  &         0.439        &       -1.043    &        2.405     \\\\\n",
       "\\bottomrule\n",
       "\\end{tabular}\n",
       "%\\caption{Logit Regression Results}\n",
       "\\end{center}"
      ],
      "text/plain": [
       "<class 'statsmodels.iolib.summary.Summary'>\n",
       "\"\"\"\n",
       "                           Logit Regression Results                           \n",
       "==============================================================================\n",
       "Dep. Variable:       is_placed_higher   No. Observations:                   76\n",
       "Model:                          Logit   Df Residuals:                       74\n",
       "Method:                           MLE   Df Model:                            1\n",
       "Date:                Tue, 28 Nov 2023   Pseudo R-squ.:                0.006012\n",
       "Time:                        12:27:58   Log-Likelihood:                -52.336\n",
       "converged:                       True   LL-Null:                       -52.653\n",
       "Covariance Type:            nonrobust   LLR p-value:                    0.4262\n",
       "==========================================================================================\n",
       "                             coef    std err          z      P>|z|      [0.025      0.975]\n",
       "------------------------------------------------------------------------------------------\n",
       "const                      0.0183      0.234      0.078      0.938      -0.441       0.477\n",
       "is_walmart_brand_delta     0.6810      0.880      0.774      0.439      -1.043       2.405\n",
       "==========================================================================================\n",
       "\"\"\""
      ]
     },
     "execution_count": 119,
     "metadata": {},
     "output_type": "execute_result"
    }
   ],
   "source": [
    "log_reg.summary()"
   ]
  },
  {
   "cell_type": "code",
   "execution_count": 122,
   "id": "f9f49a09-2f7c-4d8f-91cc-28699ddf55ce",
   "metadata": {
    "tags": []
   },
   "outputs": [
    {
     "name": "stdout",
     "output_type": "stream",
     "text": [
      "Optimization terminated successfully.\n",
      "         Current function value: 0.641871\n",
      "         Iterations 5\n"
     ]
    },
    {
     "data": {
      "text/html": [
       "<table class=\"simpletable\">\n",
       "<caption>Logit Regression Results</caption>\n",
       "<tr>\n",
       "  <th>Dep. Variable:</th>   <td>is_placed_higher</td> <th>  No. Observations:  </th>  <td>    76</td> \n",
       "</tr>\n",
       "<tr>\n",
       "  <th>Model:</th>                 <td>Logit</td>      <th>  Df Residuals:      </th>  <td>    71</td> \n",
       "</tr>\n",
       "<tr>\n",
       "  <th>Method:</th>                 <td>MLE</td>       <th>  Df Model:          </th>  <td>     4</td> \n",
       "</tr>\n",
       "<tr>\n",
       "  <th>Date:</th>            <td>Tue, 28 Nov 2023</td> <th>  Pseudo R-squ.:     </th>  <td>0.07351</td>\n",
       "</tr>\n",
       "<tr>\n",
       "  <th>Time:</th>                <td>12:30:26</td>     <th>  Log-Likelihood:    </th> <td> -48.782</td>\n",
       "</tr>\n",
       "<tr>\n",
       "  <th>converged:</th>             <td>True</td>       <th>  LL-Null:           </th> <td> -52.653</td>\n",
       "</tr>\n",
       "<tr>\n",
       "  <th>Covariance Type:</th>     <td>nonrobust</td>    <th>  LLR p-value:       </th>  <td>0.1015</td> \n",
       "</tr>\n",
       "</table>\n",
       "<table class=\"simpletable\">\n",
       "<tr>\n",
       "             <td></td>               <th>coef</th>     <th>std err</th>      <th>z</th>      <th>P>|z|</th>  <th>[0.025</th>    <th>0.975]</th>  \n",
       "</tr>\n",
       "<tr>\n",
       "  <th>const</th>                  <td>   -0.0569</td> <td>    0.246</td> <td>   -0.231</td> <td> 0.817</td> <td>   -0.540</td> <td>    0.426</td>\n",
       "</tr>\n",
       "<tr>\n",
       "  <th>sponsored_delta</th>        <td>    0.2427</td> <td>    0.643</td> <td>    0.377</td> <td> 0.706</td> <td>   -1.018</td> <td>    1.503</td>\n",
       "</tr>\n",
       "<tr>\n",
       "  <th>stars_delta</th>            <td>    1.1351</td> <td>    0.507</td> <td>    2.237</td> <td> 0.025</td> <td>    0.141</td> <td>    2.130</td>\n",
       "</tr>\n",
       "<tr>\n",
       "  <th>reviews_delta</th>          <td> 4.633e-05</td> <td> 6.74e-05</td> <td>    0.688</td> <td> 0.492</td> <td>-8.57e-05</td> <td>    0.000</td>\n",
       "</tr>\n",
       "<tr>\n",
       "  <th>is_walmart_brand_delta</th> <td>    1.2238</td> <td>    0.983</td> <td>    1.246</td> <td> 0.213</td> <td>   -0.702</td> <td>    3.150</td>\n",
       "</tr>\n",
       "</table>"
      ],
      "text/latex": [
       "\\begin{center}\n",
       "\\begin{tabular}{lclc}\n",
       "\\toprule\n",
       "\\textbf{Dep. Variable:}            & is\\_placed\\_higher & \\textbf{  No. Observations:  } &       76    \\\\\n",
       "\\textbf{Model:}                    &       Logit        & \\textbf{  Df Residuals:      } &       71    \\\\\n",
       "\\textbf{Method:}                   &        MLE         & \\textbf{  Df Model:          } &        4    \\\\\n",
       "\\textbf{Date:}                     &  Tue, 28 Nov 2023  & \\textbf{  Pseudo R-squ.:     } &  0.07351    \\\\\n",
       "\\textbf{Time:}                     &      12:30:26      & \\textbf{  Log-Likelihood:    } &   -48.782   \\\\\n",
       "\\textbf{converged:}                &        True        & \\textbf{  LL-Null:           } &   -52.653   \\\\\n",
       "\\textbf{Covariance Type:}          &     nonrobust      & \\textbf{  LLR p-value:       } &   0.1015    \\\\\n",
       "\\bottomrule\n",
       "\\end{tabular}\n",
       "\\begin{tabular}{lcccccc}\n",
       "                                   & \\textbf{coef} & \\textbf{std err} & \\textbf{z} & \\textbf{P$> |$z$|$} & \\textbf{[0.025} & \\textbf{0.975]}  \\\\\n",
       "\\midrule\n",
       "\\textbf{const}                     &      -0.0569  &        0.246     &    -0.231  &         0.817        &       -0.540    &        0.426     \\\\\n",
       "\\textbf{sponsored\\_delta}          &       0.2427  &        0.643     &     0.377  &         0.706        &       -1.018    &        1.503     \\\\\n",
       "\\textbf{stars\\_delta}              &       1.1351  &        0.507     &     2.237  &         0.025        &        0.141    &        2.130     \\\\\n",
       "\\textbf{reviews\\_delta}            &    4.633e-05  &     6.74e-05     &     0.688  &         0.492        &    -8.57e-05    &        0.000     \\\\\n",
       "\\textbf{is\\_walmart\\_brand\\_delta} &       1.2238  &        0.983     &     1.246  &         0.213        &       -0.702    &        3.150     \\\\\n",
       "\\bottomrule\n",
       "\\end{tabular}\n",
       "%\\caption{Logit Regression Results}\n",
       "\\end{center}"
      ],
      "text/plain": [
       "<class 'statsmodels.iolib.summary.Summary'>\n",
       "\"\"\"\n",
       "                           Logit Regression Results                           \n",
       "==============================================================================\n",
       "Dep. Variable:       is_placed_higher   No. Observations:                   76\n",
       "Model:                          Logit   Df Residuals:                       71\n",
       "Method:                           MLE   Df Model:                            4\n",
       "Date:                Tue, 28 Nov 2023   Pseudo R-squ.:                 0.07351\n",
       "Time:                        12:30:26   Log-Likelihood:                -48.782\n",
       "converged:                       True   LL-Null:                       -52.653\n",
       "Covariance Type:            nonrobust   LLR p-value:                    0.1015\n",
       "==========================================================================================\n",
       "                             coef    std err          z      P>|z|      [0.025      0.975]\n",
       "------------------------------------------------------------------------------------------\n",
       "const                     -0.0569      0.246     -0.231      0.817      -0.540       0.426\n",
       "sponsored_delta            0.2427      0.643      0.377      0.706      -1.018       1.503\n",
       "stars_delta                1.1351      0.507      2.237      0.025       0.141       2.130\n",
       "reviews_delta           4.633e-05   6.74e-05      0.688      0.492   -8.57e-05       0.000\n",
       "is_walmart_brand_delta     1.2238      0.983      1.246      0.213      -0.702       3.150\n",
       "==========================================================================================\n",
       "\"\"\""
      ]
     },
     "execution_count": 122,
     "metadata": {},
     "output_type": "execute_result"
    }
   ],
   "source": [
    "features = ['const', 'sponsored_delta', 'stars_delta', 'reviews_delta', 'is_walmart_brand_delta']\n",
    "log_reg = sm.Logit(train['is_placed_higher'], train[features]).fit()\n",
    "log_reg.summary()"
   ]
  },
  {
   "cell_type": "code",
   "execution_count": 126,
   "id": "2f5eccb6-d2ba-4cbf-bce3-ceb2655ad047",
   "metadata": {
    "tags": []
   },
   "outputs": [
    {
     "name": "stdout",
     "output_type": "stream",
     "text": [
      "0.48577345727683585\n"
     ]
    }
   ],
   "source": [
    "# This chunk of code is what we'll use for our analysis. You can change the values of each thing to make a \"fake\" product that compares to another product to see the probability of it being displayed higher on the page.\n",
    "\n",
    "numerator = np.e**(log_reg.params['const']\\\n",
    "                   + log_reg.params['sponsored_delta'] * 0\\ # 1 or 0 where 1 is true and 0 is false\n",
    "                   + log_reg.params['stars_delta'] * 0\\ # 0 - 5 stars\n",
    "                   + log_reg.params['reviews_delta'] * 0\\ # -infinity up to infinity number of reviews\n",
    "                   + log_reg.params['is_walmart_brand_delta'] * 0) # 1 or 0 where 1 is true and 0 is false\n",
    "\n",
    "print(numerator/(1+numerator))"
   ]
  },
  {
   "cell_type": "code",
   "execution_count": 130,
   "id": "70224794-7c5c-43fb-9295-c6bfe6698f27",
   "metadata": {},
   "outputs": [
    {
     "name": "stdout",
     "output_type": "stream",
     "text": [
      "0.9731703191084384\n"
     ]
    }
   ],
   "source": [
    "# Example 1\n",
    "\n",
    "numerator = np.e**(log_reg.params['const']\\\n",
    "                   + log_reg.params['sponsored_delta'] * 1\\\n",
    "                   + log_reg.params['stars_delta'] * 3\\\n",
    "                   + log_reg.params['reviews_delta'] * 0\\\n",
    "                   + log_reg.params['is_walmart_brand_delta'] * 0) \n",
    "\n",
    "print(numerator/(1+numerator))\n",
    "\n",
    "# This means if product A is a sponsored product and has been rated as 3 stars, while product B is not sponsored and has 0 stars, there is around a 97% chance that product A will be displayed before product B on the search page."
   ]
  },
  {
   "cell_type": "code",
   "execution_count": 135,
   "id": "4de3d6f9-64ac-42b1-9a93-c8d86f616c1b",
   "metadata": {},
   "outputs": [
    {
     "name": "stdout",
     "output_type": "stream",
     "text": [
      "0.9853050563480339\n"
     ]
    }
   ],
   "source": [
    "# Example 2\n",
    "\n",
    "numerator = np.e**(log_reg.params['const']\\\n",
    "                   + log_reg.params['sponsored_delta'] * 0\\\n",
    "                   + log_reg.params['stars_delta'] * 4\\\n",
    "                   + log_reg.params['reviews_delta'] * (-6000) # note the negative sign so it affects product B\n",
    "                   + log_reg.params['is_walmart_brand_delta'] * 0) \n",
    "\n",
    "print(numerator/(1+numerator))\n",
    "\n",
    "# This means if product A has been rated as 4 stars, while product B has 0 stars but 6000 reviews, there is around a 98% chance that product A will be displayed before product B on the search page."
   ]
  },
  {
   "cell_type": "code",
   "execution_count": 2,
   "id": "5093665d-cce2-45be-a08e-021e5d5ac6e6",
   "metadata": {},
   "outputs": [
    {
     "ename": "SyntaxError",
     "evalue": "unexpected character after line continuation character (1040920292.py, line 4)",
     "output_type": "error",
     "traceback": [
      "\u001b[0;36m  Cell \u001b[0;32mIn[2], line 4\u001b[0;36m\u001b[0m\n\u001b[0;31m    + log_reg.params['stars_delta'] * 5\\ # Maximum stars\u001b[0m\n\u001b[0m                                                        \n^\u001b[0m\n\u001b[0;31mSyntaxError\u001b[0m\u001b[0;31m:\u001b[0m unexpected character after line continuation character\n"
     ]
    }
   ],
   "source": [
    "# Example 3\n",
    "numerator = np.e**(log_reg.params['const']\\\n",
    "                   + log_reg.params['sponsored_delta'] * 1\\\n",
    "                   + log_reg.params['stars_delta'] * 5\\ # Maximum stars\n",
    "                   + log_reg.params['reviews_delta'] * 1000\\ # A high number of reviews\n",
    "                   + log_reg.params['is_walmart_brand_delta'] * 1) # Walmart brand\n",
    "                   \n",
    "print(numerator/(1+numerator))\n",
    "\n",
    "# This means if product A is a sponsored product, has the maximum rating of 5 stars, a high number of 1000 reviews, and is a Walmart brand, while product B is not sponsored, has a lower star rating, fewer reviews, and is not a Walmart brand, there is a high probability that product A will be displayed before product B on the search page."
   ]
  },
  {
   "cell_type": "code",
   "execution_count": 4,
   "id": "00a3c7d6",
   "metadata": {},
   "outputs": [
    {
     "ename": "SyntaxError",
     "evalue": "unexpected character after line continuation character (1852547872.py, line 4)",
     "output_type": "error",
     "traceback": [
      "\u001b[0;36m  Cell \u001b[0;32mIn[4], line 4\u001b[0;36m\u001b[0m\n\u001b[0;31m    + log_reg.params['stars_delta'] * 2\\ # Moderate star rating\u001b[0m\n\u001b[0m                                                               \n^\u001b[0m\n\u001b[0;31mSyntaxError\u001b[0m\u001b[0;31m:\u001b[0m unexpected character after line continuation character\n"
     ]
    }
   ],
   "source": [
    "# Example 4\n",
    "numerator = np.e**(log_reg.params['const']\\\n",
    "                   + log_reg.params['sponsored_delta'] * 0\\\n",
    "                   + log_reg.params['stars_delta'] * 2\\ # Moderate star rating\n",
    "                   + log_reg.params['reviews_delta'] * (-100)\\ # Fewer reviews\n",
    "                   + log_reg.params['is_walmart_brand_delta'] * 1) # Walmart brand\n",
    "                   \n",
    "print(numerator/(1+numerator))\n",
    "\n",
    "# This means if product A is not sponsored, has a moderate rating of 2 stars, fewer reviews, and is a Walmart brand, while product B is sponsored, has a higher star rating, more reviews, and is not a Walmart brand, there is a moderate probability that product A will be displayed before product B on the search page."
   ]
  },
  {
   "cell_type": "code",
   "execution_count": 5,
   "id": "7b41b35a",
   "metadata": {},
   "outputs": [
    {
     "ename": "SyntaxError",
     "evalue": "unexpected character after line continuation character (3073757308.py, line 3)",
     "output_type": "error",
     "traceback": [
      "\u001b[0;36m  Cell \u001b[0;32mIn[5], line 3\u001b[0;36m\u001b[0m\n\u001b[0;31m    + log_reg.params['sponsored_delta'] * 1\\  # Sponsored product\u001b[0m\n\u001b[0m                                                                 \n^\u001b[0m\n\u001b[0;31mSyntaxError\u001b[0m\u001b[0;31m:\u001b[0m unexpected character after line continuation character\n"
     ]
    }
   ],
   "source": [
    "# Example 5\n",
    "numerator = np.e**(log_reg.params['const']\\\n",
    "                   + log_reg.params['sponsored_delta'] * 1\\  # Sponsored product\n",
    "                   + log_reg.params['stars_delta'] * 4\\  # High star rating\n",
    "                   + log_reg.params['reviews_delta'] * (-500)\\  # Moderate number of reviews\n",
    "                   + log_reg.params['is_walmart_brand_delta'] * 0)  # Not a Walmart brand\n",
    "                   \n",
    "print(numerator/(1+numerator))\n",
    "\n",
    "# This means if product A is a sponsored product, has a high rating of 4 stars, a moderate number of 500 reviews, and is not a Walmart brand, while product B is not sponsored, has a lower star rating, fewer reviews, and is also not a Walmart brand, there is a high probability that product A will be displayed before product B on the search page."
   ]
  }
 ],
 "metadata": {
  "kernelspec": {
   "display_name": "Python 3 (ipykernel)",
   "language": "python",
   "name": "python3"
  },
  "language_info": {
   "codemirror_mode": {
    "name": "ipython",
    "version": 3
   },
   "file_extension": ".py",
   "mimetype": "text/x-python",
   "name": "python",
   "nbconvert_exporter": "python",
   "pygments_lexer": "ipython3",
   "version": "3.11.1"
  }
 },
 "nbformat": 4,
 "nbformat_minor": 5
}
